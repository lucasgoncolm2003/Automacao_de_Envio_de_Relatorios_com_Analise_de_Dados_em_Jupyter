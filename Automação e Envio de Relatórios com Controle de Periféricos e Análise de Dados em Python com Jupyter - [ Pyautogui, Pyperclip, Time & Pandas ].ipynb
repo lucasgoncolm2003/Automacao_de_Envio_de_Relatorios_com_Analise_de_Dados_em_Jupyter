{
 "cells": [
  {
   "cell_type": "markdown",
   "id": "43591673",
   "metadata": {},
   "source": [
    "## Automação e Envio de Relatórios com Controle de Periféricos e Análise de Dados em Python com Jupyter - [Pyautogui, Pyperclip, Time & Pandas]\n",
    "\n",
    "### • Envio de Relatórios\n",
    "### • Automação e Controle de Mouse\n",
    "### • Automação e Controle de Teclado\n",
    "### • Análise de Dados\n",
    "### • Linguagem Python\n",
    "### • Plataforma Jupyter\n",
    "### • Uso de Bibliotecas\n",
    "#### • Pandas\n",
    "#### • Pyautogui\n",
    "#### • Pyperclip\n",
    "#### • Time"
   ]
  },
  {
   "cell_type": "code",
   "execution_count": null,
   "id": "b9e15a6c",
   "metadata": {},
   "outputs": [],
   "source": [
    "#!/usr/bin/env python\n",
    "# coding: utf-8\n",
    "# In[1]:\n",
    "get_ipython().system('pip install pyautogui')\n",
    "get_ipython().system('pip install pandas')"
   ]
  },
  {
   "cell_type": "code",
   "execution_count": null,
   "id": "6942a1af",
   "metadata": {},
   "outputs": [],
   "source": [
    "# In[44]:\n",
    "import pyautogui as pg\n",
    "import pyperclip as pclip\n",
    "import pandas as pd\n",
    "import time\n",
    "pg.PAUSE = 1\n",
    "# pyautogui.PAUSE cria uma Pausa de x segundos para cada Comando da Biblioteca\n",
    "pg.hotkey(\"ctrl\",\"t\")\n",
    "# pyautogui.hotkey() realiza o Controle Automático do Teclado\n",
    "pclip.copy(\"--Link que leva até a Base de Dados--\")\n",
    "pg.hotkey(\"ctrl\",\"v\")\n",
    "pg.press(\"enter\")\n",
    "time.sleep(5)\n",
    "# time.sleep() dá uma Pausa de x segundos em um determinado Comando\n",
    "pg.click(x=389, y=295, clicks=4)\n",
    "# pyautogui.click() realiza o Controle Automático do Mouse\n",
    "# Usar pg.position() para obter Posição do Mouse no momento\n",
    "time.sleep(10)\n",
    "pg.click(x=380, y=300, clicks=4)\n",
    "time.sleep(15)\n",
    "pg.click(x=380, y=300, clicks=4)\n",
    "time.sleep(15)\n",
    "pg.click(x=126, y=143)\n",
    "pg.click(x=147, y=421)\n",
    "pg.click(x=486, y=429)\n",
    "time.sleep(15)\n",
    "tabela = pd.read_excel(r\"Caminho do Arquivo do Disco Local até a Planilha .xlsx\")\n",
    "# pandas.read_excel() faz a Leitura de uma Tabela de Excel\n",
    "faturamento = tabela[\"Valor Final\"].sum()\n",
    "quantidade = tabela[\"Quantidade\"].sum()\n",
    "pg.hotkey(\"ctrl\",\"t\")\n",
    "pclip.copy(\"https://mail.google.com/mail/u/0/#inbox\")\n",
    "# pyperclip.copy() copia texto sem alteração de Formatação\n",
    "pg.hotkey(\"ctrl\",\"v\")\n",
    "pg.press(\"enter\")\n",
    "# pyautogui.press() aperta algum botão do teclado\n",
    "time.sleep(40)\n",
    "pg.click(x=185,y=189)\n",
    "time.sleep(10)\n",
    "pg.write(\"fulaninhodetal@gmail.com\")\n",
    "time.sleep(5)\n",
    "pg.press(\"tab\")\n",
    "time.sleep(5)\n",
    "pg.press(\"tab\")\n",
    "time.sleep(5)\n",
    "pclip.copy(\"Relatório de Vendas\")\n",
    "pg.hotkey(\"ctrl\",\"v\")\n",
    "time.sleep(5)\n",
    "pg.press(\"tab\")\n",
    "time.sleep(5)\n",
    "txt = f\"\"\"\n",
    "Prezados,\n",
    "Segue o Relatório de Vendas:\n",
    "Faturamento: R${faturamento:,.2f}\n",
    "Quantidade de Produtos Vendidos: {quantidade:,}\n",
    "Qualquer dúvida, estou à disposição.\n",
    "Atenciosamente,\n",
    "Lucas Gonçalves de Oliveira Martins\n",
    "\"\"\"\n",
    "pclip.copy(txt)\n",
    "pg.hotkey(\"ctrl\",\"v\")\n",
    "pg.hotkey(\"ctrl\",\"enter\")"
   ]
  },
  {
   "cell_type": "code",
   "execution_count": null,
   "id": "2531e6a9",
   "metadata": {},
   "outputs": [],
   "source": [
    "# In[37]:\n",
    "import pyautogui as pg\n",
    "pg.position()"
   ]
  }
 ],
 "metadata": {
  "kernelspec": {
   "display_name": "Python 3 (ipykernel)",
   "language": "python",
   "name": "python3"
  },
  "language_info": {
   "codemirror_mode": {
    "name": "ipython",
    "version": 3
   },
   "file_extension": ".py",
   "mimetype": "text/x-python",
   "name": "python",
   "nbconvert_exporter": "python",
   "pygments_lexer": "ipython3",
   "version": "3.9.12"
  }
 },
 "nbformat": 4,
 "nbformat_minor": 5
}
